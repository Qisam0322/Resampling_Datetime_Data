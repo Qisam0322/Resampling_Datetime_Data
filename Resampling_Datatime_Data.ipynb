{
 "cells": [
  {
   "cell_type": "markdown",
   "id": "c031e1f5-36dd-44d6-b636-7588060102c3",
   "metadata": {},
   "source": [
    "# Load the data and make a datetime index."
   ]
  },
  {
   "cell_type": "code",
   "execution_count": 54,
   "id": "0af0b0c7-dd96-477c-a858-306deb489629",
   "metadata": {},
   "outputs": [],
   "source": [
    "import pandas as pd\n",
    "import matplotlib.pyplot as plt\n",
    "import seaborn as sns\n",
    "import matplotlib.dates as mdates\n",
    "import matplotlib.ticker as mticks"
   ]
  },
  {
   "cell_type": "code",
   "execution_count": 25,
   "id": "0c15150d-c864-4c31-939a-fd15e755fec5",
   "metadata": {},
   "outputs": [
    {
     "name": "stdout",
     "output_type": "stream",
     "text": [
      "<class 'pandas.core.frame.DataFrame'>\n",
      "RangeIndex: 15341 entries, 0 to 15340\n",
      "Data columns (total 10 columns):\n",
      " #   Column            Non-Null Count  Dtype  \n",
      "---  ------            --------------  -----  \n",
      " 0   date              15341 non-null  int64  \n",
      " 1   cloud_cover       14938 non-null  float64\n",
      " 2   sunshine          14957 non-null  float64\n",
      " 3   global_radiation  14939 non-null  float64\n",
      " 4   max_temp          14951 non-null  float64\n",
      " 5   mean_temp         14922 non-null  float64\n",
      " 6   min_temp          14955 non-null  float64\n",
      " 7   precipitation     14951 non-null  float64\n",
      " 8   pressure          14953 non-null  float64\n",
      " 9   snow_depth        13589 non-null  float64\n",
      "dtypes: float64(9), int64(1)\n",
      "memory usage: 1.2 MB\n"
     ]
    },
    {
     "data": {
      "text/html": [
       "<div>\n",
       "<style scoped>\n",
       "    .dataframe tbody tr th:only-of-type {\n",
       "        vertical-align: middle;\n",
       "    }\n",
       "\n",
       "    .dataframe tbody tr th {\n",
       "        vertical-align: top;\n",
       "    }\n",
       "\n",
       "    .dataframe thead th {\n",
       "        text-align: right;\n",
       "    }\n",
       "</style>\n",
       "<table border=\"1\" class=\"dataframe\">\n",
       "  <thead>\n",
       "    <tr style=\"text-align: right;\">\n",
       "      <th></th>\n",
       "      <th>date</th>\n",
       "      <th>cloud_cover</th>\n",
       "      <th>sunshine</th>\n",
       "      <th>global_radiation</th>\n",
       "      <th>max_temp</th>\n",
       "      <th>mean_temp</th>\n",
       "      <th>min_temp</th>\n",
       "      <th>precipitation</th>\n",
       "      <th>pressure</th>\n",
       "      <th>snow_depth</th>\n",
       "    </tr>\n",
       "  </thead>\n",
       "  <tbody>\n",
       "    <tr>\n",
       "      <th>0</th>\n",
       "      <td>19790101</td>\n",
       "      <td>2.0</td>\n",
       "      <td>7.0</td>\n",
       "      <td>52.0</td>\n",
       "      <td>2.3</td>\n",
       "      <td>-4.1</td>\n",
       "      <td>-7.5</td>\n",
       "      <td>0.4</td>\n",
       "      <td>101900.0</td>\n",
       "      <td>9.0</td>\n",
       "    </tr>\n",
       "    <tr>\n",
       "      <th>1</th>\n",
       "      <td>19790102</td>\n",
       "      <td>6.0</td>\n",
       "      <td>1.7</td>\n",
       "      <td>27.0</td>\n",
       "      <td>1.6</td>\n",
       "      <td>-2.6</td>\n",
       "      <td>-7.5</td>\n",
       "      <td>0.0</td>\n",
       "      <td>102530.0</td>\n",
       "      <td>8.0</td>\n",
       "    </tr>\n",
       "    <tr>\n",
       "      <th>2</th>\n",
       "      <td>19790103</td>\n",
       "      <td>5.0</td>\n",
       "      <td>0.0</td>\n",
       "      <td>13.0</td>\n",
       "      <td>1.3</td>\n",
       "      <td>-2.8</td>\n",
       "      <td>-7.2</td>\n",
       "      <td>0.0</td>\n",
       "      <td>102050.0</td>\n",
       "      <td>4.0</td>\n",
       "    </tr>\n",
       "    <tr>\n",
       "      <th>3</th>\n",
       "      <td>19790104</td>\n",
       "      <td>8.0</td>\n",
       "      <td>0.0</td>\n",
       "      <td>13.0</td>\n",
       "      <td>-0.3</td>\n",
       "      <td>-2.6</td>\n",
       "      <td>-6.5</td>\n",
       "      <td>0.0</td>\n",
       "      <td>100840.0</td>\n",
       "      <td>2.0</td>\n",
       "    </tr>\n",
       "    <tr>\n",
       "      <th>4</th>\n",
       "      <td>19790105</td>\n",
       "      <td>6.0</td>\n",
       "      <td>2.0</td>\n",
       "      <td>29.0</td>\n",
       "      <td>5.6</td>\n",
       "      <td>-0.8</td>\n",
       "      <td>-1.4</td>\n",
       "      <td>0.0</td>\n",
       "      <td>102250.0</td>\n",
       "      <td>1.0</td>\n",
       "    </tr>\n",
       "  </tbody>\n",
       "</table>\n",
       "</div>"
      ],
      "text/plain": [
       "       date  cloud_cover  sunshine  global_radiation  max_temp  mean_temp  \\\n",
       "0  19790101          2.0       7.0              52.0       2.3       -4.1   \n",
       "1  19790102          6.0       1.7              27.0       1.6       -2.6   \n",
       "2  19790103          5.0       0.0              13.0       1.3       -2.8   \n",
       "3  19790104          8.0       0.0              13.0      -0.3       -2.6   \n",
       "4  19790105          6.0       2.0              29.0       5.6       -0.8   \n",
       "\n",
       "   min_temp  precipitation  pressure  snow_depth  \n",
       "0      -7.5            0.4  101900.0         9.0  \n",
       "1      -7.5            0.0  102530.0         8.0  \n",
       "2      -7.2            0.0  102050.0         4.0  \n",
       "3      -6.5            0.0  100840.0         2.0  \n",
       "4      -1.4            0.0  102250.0         1.0  "
      ]
     },
     "execution_count": 25,
     "metadata": {},
     "output_type": "execute_result"
    }
   ],
   "source": [
    "url='https://docs.google.com/spreadsheets/d/e/2PACX-1vT_jChgNsQbHbg4TGepzIqk8XC9DTIKmyyxb1upo5cfZCgbfIUQc2ZC0YMzuU5uApP140Ob49KBjdqh/pub?gid=1198589591&single=true&output=csv'\n",
    "df=pd.read_csv(url)\n",
    "df.info()\n",
    "df.head()"
   ]
  },
  {
   "cell_type": "markdown",
   "id": "4833d41d-ecf5-4a49-b4cd-522bffdd8f90",
   "metadata": {},
   "source": [
    "**Convert the date column to datetime dtype.**"
   ]
  },
  {
   "cell_type": "code",
   "execution_count": 26,
   "id": "acc8cfaf-bd75-4c84-87db-9ca23f42a136",
   "metadata": {},
   "outputs": [],
   "source": [
    "df['date']=pd.to_datetime(df['date'],format='%Y%m%d')"
   ]
  },
  {
   "cell_type": "markdown",
   "id": "4b74f61a-53e9-4528-93ce-390e3e5fa726",
   "metadata": {},
   "source": [
    "**Set the date column as the index.**"
   ]
  },
  {
   "cell_type": "code",
   "execution_count": 27,
   "id": "b2929511-e48a-46aa-b150-08c310f5908b",
   "metadata": {},
   "outputs": [
    {
     "data": {
      "text/html": [
       "<div>\n",
       "<style scoped>\n",
       "    .dataframe tbody tr th:only-of-type {\n",
       "        vertical-align: middle;\n",
       "    }\n",
       "\n",
       "    .dataframe tbody tr th {\n",
       "        vertical-align: top;\n",
       "    }\n",
       "\n",
       "    .dataframe thead th {\n",
       "        text-align: right;\n",
       "    }\n",
       "</style>\n",
       "<table border=\"1\" class=\"dataframe\">\n",
       "  <thead>\n",
       "    <tr style=\"text-align: right;\">\n",
       "      <th></th>\n",
       "      <th>cloud_cover</th>\n",
       "      <th>sunshine</th>\n",
       "      <th>global_radiation</th>\n",
       "      <th>max_temp</th>\n",
       "      <th>mean_temp</th>\n",
       "      <th>min_temp</th>\n",
       "      <th>precipitation</th>\n",
       "      <th>pressure</th>\n",
       "      <th>snow_depth</th>\n",
       "    </tr>\n",
       "    <tr>\n",
       "      <th>date</th>\n",
       "      <th></th>\n",
       "      <th></th>\n",
       "      <th></th>\n",
       "      <th></th>\n",
       "      <th></th>\n",
       "      <th></th>\n",
       "      <th></th>\n",
       "      <th></th>\n",
       "      <th></th>\n",
       "    </tr>\n",
       "  </thead>\n",
       "  <tbody>\n",
       "    <tr>\n",
       "      <th>1979-01-01</th>\n",
       "      <td>2.0</td>\n",
       "      <td>7.0</td>\n",
       "      <td>52.0</td>\n",
       "      <td>2.3</td>\n",
       "      <td>-4.1</td>\n",
       "      <td>-7.5</td>\n",
       "      <td>0.4</td>\n",
       "      <td>101900.0</td>\n",
       "      <td>9.0</td>\n",
       "    </tr>\n",
       "    <tr>\n",
       "      <th>1979-01-02</th>\n",
       "      <td>6.0</td>\n",
       "      <td>1.7</td>\n",
       "      <td>27.0</td>\n",
       "      <td>1.6</td>\n",
       "      <td>-2.6</td>\n",
       "      <td>-7.5</td>\n",
       "      <td>0.0</td>\n",
       "      <td>102530.0</td>\n",
       "      <td>8.0</td>\n",
       "    </tr>\n",
       "    <tr>\n",
       "      <th>1979-01-03</th>\n",
       "      <td>5.0</td>\n",
       "      <td>0.0</td>\n",
       "      <td>13.0</td>\n",
       "      <td>1.3</td>\n",
       "      <td>-2.8</td>\n",
       "      <td>-7.2</td>\n",
       "      <td>0.0</td>\n",
       "      <td>102050.0</td>\n",
       "      <td>4.0</td>\n",
       "    </tr>\n",
       "    <tr>\n",
       "      <th>1979-01-04</th>\n",
       "      <td>8.0</td>\n",
       "      <td>0.0</td>\n",
       "      <td>13.0</td>\n",
       "      <td>-0.3</td>\n",
       "      <td>-2.6</td>\n",
       "      <td>-6.5</td>\n",
       "      <td>0.0</td>\n",
       "      <td>100840.0</td>\n",
       "      <td>2.0</td>\n",
       "    </tr>\n",
       "    <tr>\n",
       "      <th>1979-01-05</th>\n",
       "      <td>6.0</td>\n",
       "      <td>2.0</td>\n",
       "      <td>29.0</td>\n",
       "      <td>5.6</td>\n",
       "      <td>-0.8</td>\n",
       "      <td>-1.4</td>\n",
       "      <td>0.0</td>\n",
       "      <td>102250.0</td>\n",
       "      <td>1.0</td>\n",
       "    </tr>\n",
       "    <tr>\n",
       "      <th>...</th>\n",
       "      <td>...</td>\n",
       "      <td>...</td>\n",
       "      <td>...</td>\n",
       "      <td>...</td>\n",
       "      <td>...</td>\n",
       "      <td>...</td>\n",
       "      <td>...</td>\n",
       "      <td>...</td>\n",
       "      <td>...</td>\n",
       "    </tr>\n",
       "    <tr>\n",
       "      <th>2020-12-27</th>\n",
       "      <td>1.0</td>\n",
       "      <td>0.9</td>\n",
       "      <td>32.0</td>\n",
       "      <td>7.5</td>\n",
       "      <td>7.5</td>\n",
       "      <td>7.6</td>\n",
       "      <td>2.0</td>\n",
       "      <td>98000.0</td>\n",
       "      <td>NaN</td>\n",
       "    </tr>\n",
       "    <tr>\n",
       "      <th>2020-12-28</th>\n",
       "      <td>7.0</td>\n",
       "      <td>3.7</td>\n",
       "      <td>38.0</td>\n",
       "      <td>3.6</td>\n",
       "      <td>1.1</td>\n",
       "      <td>-1.3</td>\n",
       "      <td>0.2</td>\n",
       "      <td>97370.0</td>\n",
       "      <td>NaN</td>\n",
       "    </tr>\n",
       "    <tr>\n",
       "      <th>2020-12-29</th>\n",
       "      <td>7.0</td>\n",
       "      <td>0.0</td>\n",
       "      <td>21.0</td>\n",
       "      <td>4.1</td>\n",
       "      <td>2.6</td>\n",
       "      <td>1.1</td>\n",
       "      <td>0.0</td>\n",
       "      <td>98830.0</td>\n",
       "      <td>NaN</td>\n",
       "    </tr>\n",
       "    <tr>\n",
       "      <th>2020-12-30</th>\n",
       "      <td>6.0</td>\n",
       "      <td>0.4</td>\n",
       "      <td>22.0</td>\n",
       "      <td>5.6</td>\n",
       "      <td>2.7</td>\n",
       "      <td>-0.1</td>\n",
       "      <td>0.0</td>\n",
       "      <td>100200.0</td>\n",
       "      <td>NaN</td>\n",
       "    </tr>\n",
       "    <tr>\n",
       "      <th>2020-12-31</th>\n",
       "      <td>7.0</td>\n",
       "      <td>1.3</td>\n",
       "      <td>34.0</td>\n",
       "      <td>1.5</td>\n",
       "      <td>-0.8</td>\n",
       "      <td>-3.1</td>\n",
       "      <td>0.0</td>\n",
       "      <td>100500.0</td>\n",
       "      <td>NaN</td>\n",
       "    </tr>\n",
       "  </tbody>\n",
       "</table>\n",
       "<p>15341 rows × 9 columns</p>\n",
       "</div>"
      ],
      "text/plain": [
       "            cloud_cover  sunshine  global_radiation  max_temp  mean_temp  \\\n",
       "date                                                                       \n",
       "1979-01-01          2.0       7.0              52.0       2.3       -4.1   \n",
       "1979-01-02          6.0       1.7              27.0       1.6       -2.6   \n",
       "1979-01-03          5.0       0.0              13.0       1.3       -2.8   \n",
       "1979-01-04          8.0       0.0              13.0      -0.3       -2.6   \n",
       "1979-01-05          6.0       2.0              29.0       5.6       -0.8   \n",
       "...                 ...       ...               ...       ...        ...   \n",
       "2020-12-27          1.0       0.9              32.0       7.5        7.5   \n",
       "2020-12-28          7.0       3.7              38.0       3.6        1.1   \n",
       "2020-12-29          7.0       0.0              21.0       4.1        2.6   \n",
       "2020-12-30          6.0       0.4              22.0       5.6        2.7   \n",
       "2020-12-31          7.0       1.3              34.0       1.5       -0.8   \n",
       "\n",
       "            min_temp  precipitation  pressure  snow_depth  \n",
       "date                                                       \n",
       "1979-01-01      -7.5            0.4  101900.0         9.0  \n",
       "1979-01-02      -7.5            0.0  102530.0         8.0  \n",
       "1979-01-03      -7.2            0.0  102050.0         4.0  \n",
       "1979-01-04      -6.5            0.0  100840.0         2.0  \n",
       "1979-01-05      -1.4            0.0  102250.0         1.0  \n",
       "...              ...            ...       ...         ...  \n",
       "2020-12-27       7.6            2.0   98000.0         NaN  \n",
       "2020-12-28      -1.3            0.2   97370.0         NaN  \n",
       "2020-12-29       1.1            0.0   98830.0         NaN  \n",
       "2020-12-30      -0.1            0.0  100200.0         NaN  \n",
       "2020-12-31      -3.1            0.0  100500.0         NaN  \n",
       "\n",
       "[15341 rows x 9 columns]"
      ]
     },
     "execution_count": 27,
     "metadata": {},
     "output_type": "execute_result"
    }
   ],
   "source": [
    "df=df.set_index(['date'])\n",
    "df"
   ]
  },
  {
   "cell_type": "markdown",
   "id": "40cb28cc-050d-4318-88d3-87e147a3ded2",
   "metadata": {},
   "source": [
    "**Filter out only the required data**"
   ]
  },
  {
   "cell_type": "markdown",
   "id": "c0770c98-a572-4c54-a27f-a3e85d0b7edf",
   "metadata": {},
   "source": [
    "- Keep only data from the year 2000 or later.\n",
    "\n",
    "- Keep only the following features:\n",
    "  - precipitation\n",
    "  - mean_temp\n",
    "  - min_temp\n",
    "  - max_temp\n",
    "  - snow_depth"
   ]
  },
  {
   "cell_type": "code",
   "execution_count": 29,
   "id": "f59e40af-9f00-40db-b5ef-df21103fa767",
   "metadata": {},
   "outputs": [
    {
     "data": {
      "text/html": [
       "<div>\n",
       "<style scoped>\n",
       "    .dataframe tbody tr th:only-of-type {\n",
       "        vertical-align: middle;\n",
       "    }\n",
       "\n",
       "    .dataframe tbody tr th {\n",
       "        vertical-align: top;\n",
       "    }\n",
       "\n",
       "    .dataframe thead th {\n",
       "        text-align: right;\n",
       "    }\n",
       "</style>\n",
       "<table border=\"1\" class=\"dataframe\">\n",
       "  <thead>\n",
       "    <tr style=\"text-align: right;\">\n",
       "      <th></th>\n",
       "      <th>precipitation</th>\n",
       "      <th>mean_temp</th>\n",
       "      <th>min_temp</th>\n",
       "      <th>max_temp</th>\n",
       "      <th>snow_depth</th>\n",
       "    </tr>\n",
       "    <tr>\n",
       "      <th>date</th>\n",
       "      <th></th>\n",
       "      <th></th>\n",
       "      <th></th>\n",
       "      <th></th>\n",
       "      <th></th>\n",
       "    </tr>\n",
       "  </thead>\n",
       "  <tbody>\n",
       "    <tr>\n",
       "      <th>2000-01-01</th>\n",
       "      <td>0.0</td>\n",
       "      <td>7.0</td>\n",
       "      <td>4.9</td>\n",
       "      <td>10.8</td>\n",
       "      <td>0.0</td>\n",
       "    </tr>\n",
       "    <tr>\n",
       "      <th>2000-01-02</th>\n",
       "      <td>0.2</td>\n",
       "      <td>7.9</td>\n",
       "      <td>5.0</td>\n",
       "      <td>11.5</td>\n",
       "      <td>0.0</td>\n",
       "    </tr>\n",
       "    <tr>\n",
       "      <th>2000-01-03</th>\n",
       "      <td>6.0</td>\n",
       "      <td>9.4</td>\n",
       "      <td>7.2</td>\n",
       "      <td>9.5</td>\n",
       "      <td>0.0</td>\n",
       "    </tr>\n",
       "    <tr>\n",
       "      <th>2000-01-04</th>\n",
       "      <td>0.2</td>\n",
       "      <td>7.0</td>\n",
       "      <td>4.4</td>\n",
       "      <td>11.0</td>\n",
       "      <td>0.0</td>\n",
       "    </tr>\n",
       "    <tr>\n",
       "      <th>2000-01-05</th>\n",
       "      <td>0.8</td>\n",
       "      <td>6.4</td>\n",
       "      <td>1.9</td>\n",
       "      <td>10.8</td>\n",
       "      <td>0.0</td>\n",
       "    </tr>\n",
       "    <tr>\n",
       "      <th>...</th>\n",
       "      <td>...</td>\n",
       "      <td>...</td>\n",
       "      <td>...</td>\n",
       "      <td>...</td>\n",
       "      <td>...</td>\n",
       "    </tr>\n",
       "    <tr>\n",
       "      <th>2020-12-27</th>\n",
       "      <td>2.0</td>\n",
       "      <td>7.5</td>\n",
       "      <td>7.6</td>\n",
       "      <td>7.5</td>\n",
       "      <td>NaN</td>\n",
       "    </tr>\n",
       "    <tr>\n",
       "      <th>2020-12-28</th>\n",
       "      <td>0.2</td>\n",
       "      <td>1.1</td>\n",
       "      <td>-1.3</td>\n",
       "      <td>3.6</td>\n",
       "      <td>NaN</td>\n",
       "    </tr>\n",
       "    <tr>\n",
       "      <th>2020-12-29</th>\n",
       "      <td>0.0</td>\n",
       "      <td>2.6</td>\n",
       "      <td>1.1</td>\n",
       "      <td>4.1</td>\n",
       "      <td>NaN</td>\n",
       "    </tr>\n",
       "    <tr>\n",
       "      <th>2020-12-30</th>\n",
       "      <td>0.0</td>\n",
       "      <td>2.7</td>\n",
       "      <td>-0.1</td>\n",
       "      <td>5.6</td>\n",
       "      <td>NaN</td>\n",
       "    </tr>\n",
       "    <tr>\n",
       "      <th>2020-12-31</th>\n",
       "      <td>0.0</td>\n",
       "      <td>-0.8</td>\n",
       "      <td>-3.1</td>\n",
       "      <td>1.5</td>\n",
       "      <td>NaN</td>\n",
       "    </tr>\n",
       "  </tbody>\n",
       "</table>\n",
       "<p>7671 rows × 5 columns</p>\n",
       "</div>"
      ],
      "text/plain": [
       "            precipitation  mean_temp  min_temp  max_temp  snow_depth\n",
       "date                                                                \n",
       "2000-01-01            0.0        7.0       4.9      10.8         0.0\n",
       "2000-01-02            0.2        7.9       5.0      11.5         0.0\n",
       "2000-01-03            6.0        9.4       7.2       9.5         0.0\n",
       "2000-01-04            0.2        7.0       4.4      11.0         0.0\n",
       "2000-01-05            0.8        6.4       1.9      10.8         0.0\n",
       "...                   ...        ...       ...       ...         ...\n",
       "2020-12-27            2.0        7.5       7.6       7.5         NaN\n",
       "2020-12-28            0.2        1.1      -1.3       3.6         NaN\n",
       "2020-12-29            0.0        2.6       1.1       4.1         NaN\n",
       "2020-12-30            0.0        2.7      -0.1       5.6         NaN\n",
       "2020-12-31            0.0       -0.8      -3.1       1.5         NaN\n",
       "\n",
       "[7671 rows x 5 columns]"
      ]
     },
     "execution_count": 29,
     "metadata": {},
     "output_type": "execute_result"
    }
   ],
   "source": [
    "df = df.loc['2000':,['precipitation','mean_temp','min_temp','max_temp','snow_depth']]\n",
    "df"
   ]
  },
  {
   "cell_type": "markdown",
   "id": "f947983d-8105-47e1-83a7-d23654446ccd",
   "metadata": {},
   "source": [
    "**Impute any missing values.**"
   ]
  },
  {
   "cell_type": "code",
   "execution_count": 30,
   "id": "3c2161e1-32ec-4293-b739-5b8c24be6ac4",
   "metadata": {},
   "outputs": [
    {
     "data": {
      "text/plain": [
       "precipitation     390\n",
       "mean_temp         419\n",
       "min_temp          386\n",
       "max_temp          390\n",
       "snow_depth       1752\n",
       "dtype: int64"
      ]
     },
     "execution_count": 30,
     "metadata": {},
     "output_type": "execute_result"
    }
   ],
   "source": [
    "# Check for total missing values for each column\n",
    "df.isna().sum()"
   ]
  },
  {
   "cell_type": "code",
   "execution_count": 33,
   "id": "730fa326-60cd-4676-8f1e-49d8380e05d6",
   "metadata": {},
   "outputs": [],
   "source": [
    "# Fill missing values for precipitation and snow_depth with '0'\n",
    "df['precipitation']=df['precipitation'].fillna(0)\n",
    "df['snow_depth']=df['snow_depth'].fillna(0)"
   ]
  },
  {
   "cell_type": "code",
   "execution_count": 32,
   "id": "8bc2a7d7-1339-43de-b6f6-41a7cefffc34",
   "metadata": {},
   "outputs": [],
   "source": [
    "# Fill missing values for mean_temp,min_temp, and max_tem with interpolate method\n",
    "df['mean_temp']=df['mean_temp'].interpolate()\n",
    "df['min_temp']=df['min_temp'].interpolate()\n",
    "df['max_temp']=df['max_temp'].interpolate()"
   ]
  },
  {
   "cell_type": "code",
   "execution_count": 34,
   "id": "ce3a2271-c14a-4829-adc9-9a5249f27e18",
   "metadata": {},
   "outputs": [
    {
     "data": {
      "text/plain": [
       "precipitation    0\n",
       "mean_temp        0\n",
       "min_temp         0\n",
       "max_temp         0\n",
       "snow_depth       0\n",
       "dtype: int64"
      ]
     },
     "execution_count": 34,
     "metadata": {},
     "output_type": "execute_result"
    }
   ],
   "source": [
    "# confirmed missing values have been filled \n",
    "df.isna().sum()"
   ]
  },
  {
   "cell_type": "markdown",
   "id": "731ff8e7-18e2-4994-b7be-f5f4e216b32b",
   "metadata": {},
   "source": [
    "# Answer the Questions with Visualizations"
   ]
  },
  {
   "cell_type": "markdown",
   "id": "e1da691a-42b7-4bcf-9e6c-f7c4dac411dd",
   "metadata": {},
   "source": [
    "## 1. What month had the most precipitation between 2000 through 2010?"
   ]
  },
  {
   "cell_type": "code",
   "execution_count": 38,
   "id": "86b2a826-1ef8-462f-8671-5673c3f43775",
   "metadata": {},
   "outputs": [
    {
     "data": {
      "text/html": [
       "<div>\n",
       "<style scoped>\n",
       "    .dataframe tbody tr th:only-of-type {\n",
       "        vertical-align: middle;\n",
       "    }\n",
       "\n",
       "    .dataframe tbody tr th {\n",
       "        vertical-align: top;\n",
       "    }\n",
       "\n",
       "    .dataframe thead th {\n",
       "        text-align: right;\n",
       "    }\n",
       "</style>\n",
       "<table border=\"1\" class=\"dataframe\">\n",
       "  <thead>\n",
       "    <tr style=\"text-align: right;\">\n",
       "      <th></th>\n",
       "      <th>precipitation</th>\n",
       "    </tr>\n",
       "    <tr>\n",
       "      <th>date</th>\n",
       "      <th></th>\n",
       "    </tr>\n",
       "  </thead>\n",
       "  <tbody>\n",
       "    <tr>\n",
       "      <th>2000-01-01</th>\n",
       "      <td>0.0</td>\n",
       "    </tr>\n",
       "    <tr>\n",
       "      <th>2000-01-02</th>\n",
       "      <td>0.2</td>\n",
       "    </tr>\n",
       "    <tr>\n",
       "      <th>2000-01-03</th>\n",
       "      <td>6.0</td>\n",
       "    </tr>\n",
       "    <tr>\n",
       "      <th>2000-01-04</th>\n",
       "      <td>0.2</td>\n",
       "    </tr>\n",
       "    <tr>\n",
       "      <th>2000-01-05</th>\n",
       "      <td>0.8</td>\n",
       "    </tr>\n",
       "    <tr>\n",
       "      <th>...</th>\n",
       "      <td>...</td>\n",
       "    </tr>\n",
       "    <tr>\n",
       "      <th>2010-12-27</th>\n",
       "      <td>5.0</td>\n",
       "    </tr>\n",
       "    <tr>\n",
       "      <th>2010-12-28</th>\n",
       "      <td>0.4</td>\n",
       "    </tr>\n",
       "    <tr>\n",
       "      <th>2010-12-29</th>\n",
       "      <td>1.4</td>\n",
       "    </tr>\n",
       "    <tr>\n",
       "      <th>2010-12-30</th>\n",
       "      <td>0.0</td>\n",
       "    </tr>\n",
       "    <tr>\n",
       "      <th>2010-12-31</th>\n",
       "      <td>0.0</td>\n",
       "    </tr>\n",
       "  </tbody>\n",
       "</table>\n",
       "<p>4018 rows × 1 columns</p>\n",
       "</div>"
      ],
      "text/plain": [
       "            precipitation\n",
       "date                     \n",
       "2000-01-01            0.0\n",
       "2000-01-02            0.2\n",
       "2000-01-03            6.0\n",
       "2000-01-04            0.2\n",
       "2000-01-05            0.8\n",
       "...                   ...\n",
       "2010-12-27            5.0\n",
       "2010-12-28            0.4\n",
       "2010-12-29            1.4\n",
       "2010-12-30            0.0\n",
       "2010-12-31            0.0\n",
       "\n",
       "[4018 rows x 1 columns]"
      ]
     },
     "execution_count": 38,
     "metadata": {},
     "output_type": "execute_result"
    }
   ],
   "source": [
    "# Make a temp df \n",
    "df_q1=df.loc['2000':'2010',['precipitation']]\n",
    "df_q1"
   ]
  },
  {
   "cell_type": "markdown",
   "id": "3b870aa5-de88-4584-81a0-3a434f0b91d3",
   "metadata": {},
   "source": [
    "**Resample the precipitation column to a Monthly frequency using .sum() as the aggregation method**"
   ]
  },
  {
   "cell_type": "code",
   "execution_count": 107,
   "id": "6e9be08d-c7e5-4798-b8b8-2845e3920655",
   "metadata": {},
   "outputs": [],
   "source": [
    "q1_res=df_q1.resample('MS').sum().copy()"
   ]
  },
  {
   "cell_type": "markdown",
   "id": "052210b0-39ff-4e81-bc15-d5f6367a8609",
   "metadata": {},
   "source": [
    "**Find the date and corresponding value for the max precipitation.**"
   ]
  },
  {
   "cell_type": "code",
   "execution_count": 108,
   "id": "49c94a27-3755-4bc6-880f-df7c3292aa66",
   "metadata": {},
   "outputs": [],
   "source": [
    "max_precipitation=q1_res['precipitation'].max()\n",
    "max_precipitation_date=q1_res['precipitation'].idxmax()"
   ]
  },
  {
   "cell_type": "code",
   "execution_count": 109,
   "id": "b00e92ba-6cd8-491c-a13d-44bcc9716e94",
   "metadata": {},
   "outputs": [
    {
     "name": "stdout",
     "output_type": "stream",
     "text": [
      "Max precipitation date:2009-11\n",
      "Max precipitation:138.4\n"
     ]
    }
   ],
   "source": [
    "print(f\"Max precipitation date:{max_precipitation_date.strftime('%Y-%m')}\")\n",
    "print(f\"Max precipitation:{max_precipitation}\")"
   ]
  },
  {
   "cell_type": "markdown",
   "id": "45fa18af-88b8-4195-b387-f090e998fb31",
   "metadata": {},
   "source": [
    "**Plot the feature and time period that corresponds to the question.**"
   ]
  },
  {
   "cell_type": "code",
   "execution_count": 110,
   "id": "79437c0d-1613-49db-b456-dee2ac19bc3e",
   "metadata": {},
   "outputs": [
    {
     "data": {
      "image/png": "[encoded data removed]",
      "text/plain": [
       "<Figure size 1200x300 with 1 Axes>"
      ]
     },
     "metadata": {},
     "output_type": "display_data"
    }
   ],
   "source": [
    "fig,ax=plt.subplots(figsize=(12,3))\n",
    "q1_res.plot(ax=ax,x_compat=True)\n",
    "\n",
    "ax.set(title='Precipitation for 2000-2010',ylabel='Inches')\n",
    "major_loc=mdates.YearLocator(1)\n",
    "major_fmt=mdates.DateFormatter('%Y')\n",
    "ax.xaxis.set_major_locator(major_loc)\n",
    "ax.xaxis.set_major_formatter(major_fmt)\n",
    "\n",
    "minor_loc=mdates.MonthLocator(interval=3)\n",
    "ax.xaxis.set_minor_locator(minor_loc)\n",
    "\n",
    "fig=ax.get_figure()\n",
    "fig.autofmt_xdate(which='major',rotation=90)\n",
    "\n",
    "ax.axvline(x=max_precipitation_date, color='red', linestyle='--', label=f'Max Precipitation on {max_precipitation_date.strftime(\"%B %Y\")}\\n Max Precipitation:{max_precipitation:.2f} Inches')\n",
    "\n",
    "plt.legend(bbox_to_anchor=(1, 1), loc='upper left')\n",
    "plt.show()"
   ]
  },
  {
   "cell_type": "markdown",
   "id": "f69adec6-bdd0-4ec2-a02e-5be84207549d",
   "metadata": {},
   "source": [
    "## 2. Which year between 2000-2020 had the coolest average temperature?"
   ]
  },
  {
   "cell_type": "code",
   "execution_count": 111,
   "id": "7a3b325a-cbbb-4331-974d-4144b3b25ec1",
   "metadata": {},
   "outputs": [
    {
     "data": {
      "text/html": [
       "<div>\n",
       "<style scoped>\n",
       "    .dataframe tbody tr th:only-of-type {\n",
       "        vertical-align: middle;\n",
       "    }\n",
       "\n",
       "    .dataframe tbody tr th {\n",
       "        vertical-align: top;\n",
       "    }\n",
       "\n",
       "    .dataframe thead th {\n",
       "        text-align: right;\n",
       "    }\n",
       "</style>\n",
       "<table border=\"1\" class=\"dataframe\">\n",
       "  <thead>\n",
       "    <tr style=\"text-align: right;\">\n",
       "      <th></th>\n",
       "      <th>mean_temp</th>\n",
       "    </tr>\n",
       "    <tr>\n",
       "      <th>date</th>\n",
       "      <th></th>\n",
       "    </tr>\n",
       "  </thead>\n",
       "  <tbody>\n",
       "    <tr>\n",
       "      <th>2000-01-01</th>\n",
       "      <td>7.0</td>\n",
       "    </tr>\n",
       "    <tr>\n",
       "      <th>2000-01-02</th>\n",
       "      <td>7.9</td>\n",
       "    </tr>\n",
       "    <tr>\n",
       "      <th>2000-01-03</th>\n",
       "      <td>9.4</td>\n",
       "    </tr>\n",
       "    <tr>\n",
       "      <th>2000-01-04</th>\n",
       "      <td>7.0</td>\n",
       "    </tr>\n",
       "    <tr>\n",
       "      <th>2000-01-05</th>\n",
       "      <td>6.4</td>\n",
       "    </tr>\n",
       "    <tr>\n",
       "      <th>...</th>\n",
       "      <td>...</td>\n",
       "    </tr>\n",
       "    <tr>\n",
       "      <th>2020-12-27</th>\n",
       "      <td>7.5</td>\n",
       "    </tr>\n",
       "    <tr>\n",
       "      <th>2020-12-28</th>\n",
       "      <td>1.1</td>\n",
       "    </tr>\n",
       "    <tr>\n",
       "      <th>2020-12-29</th>\n",
       "      <td>2.6</td>\n",
       "    </tr>\n",
       "    <tr>\n",
       "      <th>2020-12-30</th>\n",
       "      <td>2.7</td>\n",
       "    </tr>\n",
       "    <tr>\n",
       "      <th>2020-12-31</th>\n",
       "      <td>-0.8</td>\n",
       "    </tr>\n",
       "  </tbody>\n",
       "</table>\n",
       "<p>7671 rows × 1 columns</p>\n",
       "</div>"
      ],
      "text/plain": [
       "            mean_temp\n",
       "date                 \n",
       "2000-01-01        7.0\n",
       "2000-01-02        7.9\n",
       "2000-01-03        9.4\n",
       "2000-01-04        7.0\n",
       "2000-01-05        6.4\n",
       "...               ...\n",
       "2020-12-27        7.5\n",
       "2020-12-28        1.1\n",
       "2020-12-29        2.6\n",
       "2020-12-30        2.7\n",
       "2020-12-31       -0.8\n",
       "\n",
       "[7671 rows x 1 columns]"
      ]
     },
     "execution_count": 111,
     "metadata": {},
     "output_type": "execute_result"
    }
   ],
   "source": [
    "# Make a temp df \n",
    "df_q2=df.loc['2000':'2020',['mean_temp']]\n",
    "df_q2"
   ]
  },
  {
   "cell_type": "markdown",
   "id": "5310c736-eafd-4132-b6b5-8c6c0228e25a",
   "metadata": {},
   "source": [
    "**Resample the  mean_temp data to a Yearly frequency using .mean() as the aggregation method.**"
   ]
  },
  {
   "cell_type": "code",
   "execution_count": 114,
   "id": "09dee37e-95f9-4b05-a360-a5871a1fc4c9",
   "metadata": {},
   "outputs": [],
   "source": [
    "q2_res=df_q2.resample('Y').mean().copy()"
   ]
  },
  {
   "cell_type": "markdown",
   "id": "b9baaca2-1144-4984-b5bd-00657171d134",
   "metadata": {},
   "source": [
    "**Determine the year and value for the lowest mean temp.**"
   ]
  },
  {
   "cell_type": "code",
   "execution_count": 121,
   "id": "8b5b1262-9dd3-4be0-be7e-9f3a76ba62de",
   "metadata": {},
   "outputs": [],
   "source": [
    "min_temp=q2_res['mean_temp'].min()\n",
    "min_year=q2_res['mean_temp'].idxmin()"
   ]
  },
  {
   "cell_type": "code",
   "execution_count": 122,
   "id": "58943035-1078-4436-a728-a36f740f3276",
   "metadata": {},
   "outputs": [
    {
     "name": "stdout",
     "output_type": "stream",
     "text": [
      "Min mean temp year:2010\n",
      "Min temp:10.657397260273973\n"
     ]
    }
   ],
   "source": [
    "print(f\"Min mean temp year:{min_year.strftime('%Y')}\")\n",
    "print(f\"Min temp:{min_temp}\")"
   ]
  },
  {
   "cell_type": "markdown",
   "id": "37e97757-4baf-461c-a01e-8191b48c1642",
   "metadata": {},
   "source": [
    "**Plot the feature and time period that corresponds to the question.**"
   ]
  },
  {
   "cell_type": "code",
   "execution_count": 130,
   "id": "9e6eb950-991b-46b0-b219-cb0843a8d3da",
   "metadata": {},
   "outputs": [
    {
     "data": {
      "image/png": "[encoded data removed]",
      "text/plain": [
       "<Figure size 1200x300 with 1 Axes>"
      ]
     },
     "metadata": {},
     "output_type": "display_data"
    }
   ],
   "source": [
    "fig,ax=plt.subplots(figsize=(12,3))\n",
    "ax.set(title='Average Temperature',ylabel='Degrees')\n",
    "q2_res.plot(ax=ax,x_compat=True)\n",
    "major_loc=mdates.YearLocator(5)\n",
    "major_fmt=mdates.DateFormatter('%Y')\n",
    "ax.xaxis.set_major_locator(major_loc)\n",
    "ax.xaxis.set_major_formatter(major_fmt)\n",
    "\n",
    "minor_loc=mdates.YearLocator(1)\n",
    "ax.xaxis.set_minor_locator(minor_loc)\n",
    "\n",
    "ax.axvline(x=min_year, color='red', linestyle='--', label=f'Lowest Average Temperature year on {min_year.strftime(\"%Y\")}\\nLowest Average Temperature:{min_temp:.2f} Inches')\n",
    "\n",
    "fig=ax.get_figure()\n",
    "fig.autofmt_xdate(which='major',rotation=90)\n",
    "\n",
    "plt.legend(bbox_to_anchor=(1, 1), loc='upper left')\n",
    "plt.show();"
   ]
  }
 ],
 "metadata": {
  "kernelspec": {
   "display_name": "Python (dojo-env)",
   "language": "python",
   "name": "dojo-env"
  },
  "language_info": {
   "codemirror_mode": {
    "name": "ipython",
    "version": 3
   },
   "file_extension": ".py",
   "mimetype": "text/x-python",
   "name": "python",
   "nbconvert_exporter": "python",
   "pygments_lexer": "ipython3",
   "version": "3.10.10"
  },
  "widgets": {
   "application/vnd.jupyter.widget-state+json": {
    "state": {},
    "version_major": 2,
    "version_minor": 0
   }
  }
 },
 "nbformat": 4,
 "nbformat_minor": 5
}
